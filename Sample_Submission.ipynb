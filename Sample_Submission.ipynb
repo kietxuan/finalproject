{
  "nbformat": 4,
  "nbformat_minor": 0,
  "metadata": {
    "colab": {
      "provenance": []
    },
    "kernelspec": {
      "name": "python3",
      "display_name": "Python 3"
    },
    "language_info": {
      "name": "python"
    }
  },
  "cells": [
    {
      "cell_type": "code",
      "execution_count": null,
      "metadata": {
        "id": "3bBekRUrOVS7",
        "colab": {
          "base_uri": "https://localhost:8080/"
        },
        "outputId": "6e4f4829-2b93-4bf4-9e7b-7b873b2cad1c"
      },
      "outputs": [
        {
          "output_type": "stream",
          "name": "stdout",
          "text": [
            "General Info:\n",
            "<class 'pandas.core.frame.DataFrame'>\n",
            "RangeIndex: 1371980 entries, 0 to 1371979\n",
            "Data columns (total 2 columns):\n",
            " #   Column       Non-Null Count    Dtype \n",
            "---  ------       --------------    ----- \n",
            " 0   customer_id  1371980 non-null  object\n",
            " 1   prediction   1371980 non-null  object\n",
            "dtypes: object(2)\n",
            "memory usage: 20.9+ MB\n",
            "None\n",
            "\n",
            "Sample Data:\n",
            "                                         customer_id  \\\n",
            "0  00000dbacae5abe5e23885899a1fa44253a17956c6d1c3...   \n",
            "1  0000423b00ade91418cceaf3b26c6af3dd342b51fd051e...   \n",
            "2  000058a12d5b43e67d225668fa1f8d618c13dc232df0ca...   \n",
            "3  00005ca1c9ed5f5146b52ac8639a40ca9d57aeff4d1bd2...   \n",
            "4  00006413d8573cd20ed7128e53b7b13819fe5cfc2d801f...   \n",
            "5  000064249685c11552da43ef22a5030f35a147f723d5b0...   \n",
            "6  0000757967448a6cb83efb3ea7a3fb9d418ac7adf2379d...   \n",
            "7  00007d2de826758b65a93dd24ce629ed66842531df6699...   \n",
            "8  00007e8d4e54114b5b2a9b51586325a8d0fa74ea23ef77...   \n",
            "9  00008469a21b50b3d147c97135e25b4201a8c58997f787...   \n",
            "\n",
            "                                          prediction  \n",
            "0  0706016001 0706016002 0372860001 0610776002 07...  \n",
            "1  0706016001 0706016002 0372860001 0610776002 07...  \n",
            "2  0706016001 0706016002 0372860001 0610776002 07...  \n",
            "3  0706016001 0706016002 0372860001 0610776002 07...  \n",
            "4  0706016001 0706016002 0372860001 0610776002 07...  \n",
            "5  0706016001 0706016002 0372860001 0610776002 07...  \n",
            "6  0706016001 0706016002 0372860001 0610776002 07...  \n",
            "7  0706016001 0706016002 0372860001 0610776002 07...  \n",
            "8  0706016001 0706016002 0372860001 0610776002 07...  \n",
            "9  0706016001 0706016002 0372860001 0610776002 07...  \n",
            "customer_id    0\n",
            "prediction     0\n",
            "dtype: int64 \n",
            "Duplicate rows: 0\n",
            "  prediction_1 prediction_2 prediction_3 prediction_4 prediction_5  \\\n",
            "0   0706016001   0706016002   0372860001   0610776002   0759871002   \n",
            "1   0706016001   0706016002   0372860001   0610776002   0759871002   \n",
            "2   0706016001   0706016002   0372860001   0610776002   0759871002   \n",
            "3   0706016001   0706016002   0372860001   0610776002   0759871002   \n",
            "4   0706016001   0706016002   0372860001   0610776002   0759871002   \n",
            "\n",
            "  prediction_6 prediction_7 prediction_8 prediction_9 prediction_10  \\\n",
            "0   0464297007   0372860002   0610776001   0399223001    0706016003   \n",
            "1   0464297007   0372860002   0610776001   0399223001    0706016003   \n",
            "2   0464297007   0372860002   0610776001   0399223001    0706016003   \n",
            "3   0464297007   0372860002   0610776001   0399223001    0706016003   \n",
            "4   0464297007   0372860002   0610776001   0399223001    0706016003   \n",
            "\n",
            "  prediction_11 prediction_12  \n",
            "0    0720125001    0156231001  \n",
            "1    0720125001    0156231001  \n",
            "2    0720125001    0156231001  \n",
            "3    0720125001    0156231001  \n",
            "4    0720125001    0156231001  \n",
            "\n",
            "Number of unique product codes in prediction: \n",
            "12\n",
            "\n",
            "Top 10 most frequently recommended products: \n",
            "0706016001    1371980\n",
            "0706016002    1371980\n",
            "0372860001    1371980\n",
            "0610776002    1371980\n",
            "0759871002    1371980\n",
            "0464297007    1371980\n",
            "0372860002    1371980\n",
            "0610776001    1371980\n",
            "0399223001    1371980\n",
            "0706016003    1371980\n",
            "Name: count, dtype: int64\n"
          ]
        }
      ],
      "source": [
        "# Load and preview data\n",
        "import pandas as pd\n",
        "df = pd.read_csv(\"sample_submission.csv\")\n",
        "print(\"General Info:\")\n",
        "print(df.info())\n",
        "print(\"\\nSample Data:\")\n",
        "print(df.head(10))\n",
        "#Check the missing and duplicate value\n",
        "print(df.isnull().sum(), \"\\nDuplicate rows:\", df.duplicated().sum())\n",
        "df_prediction = df['prediction'].str.split(' ',expand  = True)\n",
        "df_prediction.columns = [f'prediction_{i+ 1}' for i in range(df_prediction.shape[1])]\n",
        "print(df_prediction.head())\n",
        "#There are no customer, product age and garement columns\n",
        "\n",
        "#Simple analysis\n",
        "unique_products = pd.Series(df_prediction.values.ravel()).value_counts()\n",
        "print(\"\\nNumber of unique product codes in prediction: \")\n",
        "print(unique_products.shape[0])\n",
        "print(\"\\nTop 10 most frequently recommended products: \")\n",
        "print(unique_products.head(10))"
      ]
    },
    {
      "cell_type": "code",
      "source": [],
      "metadata": {
        "id": "ojPmDDAq45K7"
      },
      "execution_count": null,
      "outputs": []
    }
  ]
}