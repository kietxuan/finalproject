{
  "nbformat": 4,
  "nbformat_minor": 0,
  "metadata": {
    "colab": {
      "provenance": []
    },
    "kernelspec": {
      "name": "python3",
      "display_name": "Python 3"
    },
    "language_info": {
      "name": "python"
    }
  },
  "cells": [
    {
      "cell_type": "code",
      "source": [
        "from google.colab import drive\n",
        "drive.mount('/content/drive')"
      ],
      "metadata": {
        "colab": {
          "base_uri": "https://localhost:8080/"
        },
        "id": "tVMpXXian_Kp",
        "outputId": "d1e327fd-8ea2-4f1e-a241-abe72cf33a3b"
      },
      "execution_count": null,
      "outputs": [
        {
          "output_type": "stream",
          "name": "stdout",
          "text": [
            "Mounted at /content/drive\n"
          ]
        }
      ]
    },
    {
      "cell_type": "markdown",
      "source": [
        "Part 1: Data Exploration and Feature Engineering"
      ],
      "metadata": {
        "id": "IBy6PBF8QZBH"
      }
    },
    {
      "cell_type": "code",
      "source": [
        "#1. Preparation:\n",
        "# Import libraries\n",
        "import pandas as pd\n",
        "import numpy as np\n",
        "import matplotlib.pyplot as plt\n",
        "import seaborn as sns\n",
        "\n",
        "# Load data\n",
        "transactions = pd.read_csv('/content/drive/MyDrive/transactions_train.csv')\n",
        "customers = pd.read_csv('customers.csv')\n",
        "articles = pd.read_csv('articles.csv')\n",
        "\n",
        "# Preview the datasets\n",
        "print(\"Transactions Preview:\")\n",
        "print(transactions.head())\n",
        "print(\"Customers Preview:\")\n",
        "print(customers.head())\n",
        "print(\"Articles Preview:\")\n",
        "print(articles.head())\n",
        "\n",
        "#2. Data Cleaning:\n",
        "#Parse date columns properly\n",
        "transactions['t_dat'] = pd.to_datetime(transactions['t_dat'])\n",
        "\n",
        "#Check for Missing or Duplicated Values:\n",
        "print(transactions.isnull().sum())\n",
        "print(customers.isnull().sum())\n",
        "print(articles.isnull().sum())\n",
        "# Handle missing values\n",
        "transactions.dropna(inplace=True)\n",
        "customers.fillna(method='ffill', inplace=True)\n",
        "articles.drop_duplicates(inplace=True)\n",
        "\n",
        "# Merge Datasets to Create a Customer-Product View:\n",
        "transactions = transactions[['customer_id', 'article_id', 't_dat']]\n",
        "customers = customers[['customer_id', 'age']]\n",
        "articles = articles[['article_id', 'product_type_name', 'product_code','perceived_colour_master_name','index_group_name']]\n",
        "\n",
        "# Merge từng bước, dùng 'inner' để giảm kích thước\n",
        "merged_df = transactions.merge(customers, on='customer_id', how='inner')\n",
        "merged_df = merged_df.merge(articles, on='article_id', how='inner')\n",
        "\n",
        "print(merged_df.head())\n"
      ],
      "metadata": {
        "colab": {
          "base_uri": "https://localhost:8080/"
        },
        "id": "NIeaD6RvNfCx",
        "outputId": "d9654790-ec0e-458d-a37b-ec04461b96f4",
        "collapsed": true
      },
      "execution_count": null,
      "outputs": [
        {
          "output_type": "stream",
          "name": "stdout",
          "text": [
            "Transactions Preview:\n",
            "        t_dat                                        customer_id  article_id  \\\n",
            "0  2018-09-20  000058a12d5b43e67d225668fa1f8d618c13dc232df0ca...   663713001   \n",
            "1  2018-09-20  000058a12d5b43e67d225668fa1f8d618c13dc232df0ca...   541518023   \n",
            "2  2018-09-20  00007d2de826758b65a93dd24ce629ed66842531df6699...   505221004   \n",
            "3  2018-09-20  00007d2de826758b65a93dd24ce629ed66842531df6699...   685687003   \n",
            "4  2018-09-20  00007d2de826758b65a93dd24ce629ed66842531df6699...   685687004   \n",
            "\n",
            "      price  sales_channel_id  \n",
            "0  0.050831                 2  \n",
            "1  0.030492                 2  \n",
            "2  0.015237                 2  \n",
            "3  0.016932                 2  \n",
            "4  0.016932                 2  \n",
            "Customers Preview:\n",
            "                                         customer_id   FN  Active  \\\n",
            "0  00000dbacae5abe5e23885899a1fa44253a17956c6d1c3...  NaN     NaN   \n",
            "1  0000423b00ade91418cceaf3b26c6af3dd342b51fd051e...  NaN     NaN   \n",
            "2  000058a12d5b43e67d225668fa1f8d618c13dc232df0ca...  NaN     NaN   \n",
            "3  00005ca1c9ed5f5146b52ac8639a40ca9d57aeff4d1bd2...  NaN     NaN   \n",
            "4  00006413d8573cd20ed7128e53b7b13819fe5cfc2d801f...  1.0     1.0   \n",
            "\n",
            "  club_member_status fashion_news_frequency   age  \\\n",
            "0             ACTIVE                   NONE  49.0   \n",
            "1             ACTIVE                   NONE  25.0   \n",
            "2             ACTIVE                   NONE  24.0   \n",
            "3             ACTIVE                   NONE  54.0   \n",
            "4             ACTIVE              Regularly  52.0   \n",
            "\n",
            "                                         postal_code  \n",
            "0  52043ee2162cf5aa7ee79974281641c6f11a68d276429a...  \n",
            "1  2973abc54daa8a5f8ccfe9362140c63247c5eee03f1d93...  \n",
            "2  64f17e6a330a85798e4998f62d0930d14db8db1c054af6...  \n",
            "3  5d36574f52495e81f019b680c843c443bd343d5ca5b1c2...  \n",
            "4  25fa5ddee9aac01b35208d01736e57942317d756b32ddd...  \n",
            "Articles Preview:\n",
            "   article_id  product_code          prod_name  product_type_no  \\\n",
            "0   108775015        108775          Strap top              253   \n",
            "1   108775044        108775          Strap top              253   \n",
            "2   108775051        108775      Strap top (1)              253   \n",
            "3   110065001        110065  OP T-shirt (Idro)              306   \n",
            "4   110065002        110065  OP T-shirt (Idro)              306   \n",
            "\n",
            "  product_type_name  product_group_name  graphical_appearance_no  \\\n",
            "0          Vest top  Garment Upper body                  1010016   \n",
            "1          Vest top  Garment Upper body                  1010016   \n",
            "2          Vest top  Garment Upper body                  1010017   \n",
            "3               Bra           Underwear                  1010016   \n",
            "4               Bra           Underwear                  1010016   \n",
            "\n",
            "  graphical_appearance_name  colour_group_code colour_group_name  ...  \\\n",
            "0                     Solid                  9             Black  ...   \n",
            "1                     Solid                 10             White  ...   \n",
            "2                    Stripe                 11         Off White  ...   \n",
            "3                     Solid                  9             Black  ...   \n",
            "4                     Solid                 10             White  ...   \n",
            "\n",
            "   department_name index_code        index_name index_group_no  \\\n",
            "0     Jersey Basic          A        Ladieswear              1   \n",
            "1     Jersey Basic          A        Ladieswear              1   \n",
            "2     Jersey Basic          A        Ladieswear              1   \n",
            "3   Clean Lingerie          B  Lingeries/Tights              1   \n",
            "4   Clean Lingerie          B  Lingeries/Tights              1   \n",
            "\n",
            "   index_group_name section_no            section_name garment_group_no  \\\n",
            "0        Ladieswear         16  Womens Everyday Basics             1002   \n",
            "1        Ladieswear         16  Womens Everyday Basics             1002   \n",
            "2        Ladieswear         16  Womens Everyday Basics             1002   \n",
            "3        Ladieswear         61         Womens Lingerie             1017   \n",
            "4        Ladieswear         61         Womens Lingerie             1017   \n",
            "\n",
            "   garment_group_name                                        detail_desc  \n",
            "0        Jersey Basic            Jersey top with narrow shoulder straps.  \n",
            "1        Jersey Basic            Jersey top with narrow shoulder straps.  \n",
            "2        Jersey Basic            Jersey top with narrow shoulder straps.  \n",
            "3   Under-, Nightwear  Microfibre T-shirt bra with underwired, moulde...  \n",
            "4   Under-, Nightwear  Microfibre T-shirt bra with underwired, moulde...  \n",
            "\n",
            "[5 rows x 25 columns]\n",
            "t_dat               0\n",
            "customer_id         0\n",
            "article_id          0\n",
            "price               0\n",
            "sales_channel_id    0\n",
            "dtype: int64\n",
            "customer_id                    0\n",
            "FN                        683679\n",
            "Active                    693339\n",
            "club_member_status          4604\n",
            "fashion_news_frequency     12305\n",
            "age                        12120\n",
            "postal_code                    0\n",
            "dtype: int64\n",
            "article_id                        0\n",
            "product_code                      0\n",
            "prod_name                         0\n",
            "product_type_no                   0\n",
            "product_type_name                 0\n",
            "product_group_name                0\n",
            "graphical_appearance_no           0\n",
            "graphical_appearance_name         0\n",
            "colour_group_code                 0\n",
            "colour_group_name                 0\n",
            "perceived_colour_value_id         0\n",
            "perceived_colour_value_name       0\n",
            "perceived_colour_master_id        0\n",
            "perceived_colour_master_name      0\n",
            "department_no                     0\n",
            "department_name                   0\n",
            "index_code                        0\n",
            "index_name                        0\n",
            "index_group_no                    0\n",
            "index_group_name                  0\n",
            "section_no                        0\n",
            "section_name                      0\n",
            "garment_group_no                  0\n",
            "garment_group_name                0\n",
            "detail_desc                     416\n",
            "dtype: int64\n"
          ]
        },
        {
          "output_type": "stream",
          "name": "stderr",
          "text": [
            "<ipython-input-2-f31a31625c4b>:31: FutureWarning: DataFrame.fillna with 'method' is deprecated and will raise in a future version. Use obj.ffill() or obj.bfill() instead.\n",
            "  customers.fillna(method='ffill', inplace=True)\n"
          ]
        },
        {
          "output_type": "stream",
          "name": "stdout",
          "text": [
            "                                         customer_id  article_id      t_dat  \\\n",
            "0  000058a12d5b43e67d225668fa1f8d618c13dc232df0ca...   663713001 2018-09-20   \n",
            "1  000058a12d5b43e67d225668fa1f8d618c13dc232df0ca...   541518023 2018-09-20   \n",
            "2  00007d2de826758b65a93dd24ce629ed66842531df6699...   505221004 2018-09-20   \n",
            "3  00007d2de826758b65a93dd24ce629ed66842531df6699...   685687003 2018-09-20   \n",
            "4  00007d2de826758b65a93dd24ce629ed66842531df6699...   685687004 2018-09-20   \n",
            "\n",
            "    age product_type_name  product_code perceived_colour_master_name  \\\n",
            "0  24.0    Underwear body        663713                        Black   \n",
            "1  24.0               Bra        541518                         Pink   \n",
            "2  32.0           Sweater        505221                         Pink   \n",
            "3  32.0           Sweater        685687                         Pink   \n",
            "4  32.0           Sweater        685687                        Green   \n",
            "\n",
            "  index_group_name  \n",
            "0       Ladieswear  \n",
            "1       Ladieswear  \n",
            "2          Divided  \n",
            "3       Ladieswear  \n",
            "4       Ladieswear  \n",
            "Top 5 most bought articles :\n",
            "   article_id  purchase_count\n",
            "0   706016001           38678\n",
            "1   706016002           26868\n",
            "2   372860001           24140\n",
            "3   610776002           23151\n",
            "4   759871002           20091\n",
            "                                         customer_id  purchase_frequency\n",
            "0  00000dbacae5abe5e23885899a1fa44253a17956c6d1c3...                  21\n",
            "1  0000423b00ade91418cceaf3b26c6af3dd342b51fd051e...                  86\n",
            "2  000058a12d5b43e67d225668fa1f8d618c13dc232df0ca...                  18\n",
            "3  00005ca1c9ed5f5146b52ac8639a40ca9d57aeff4d1bd2...                   2\n",
            "4  00006413d8573cd20ed7128e53b7b13819fe5cfc2d801f...                  13\n",
            "product_type_name\n",
            "Trousers    3231631\n",
            "Dress       2482175\n",
            "Sweater     2130646\n",
            "T-shirt     1685491\n",
            "Top         1210528\n",
            "Name: count, dtype: int64\n"
          ]
        }
      ]
    },
    {
      "cell_type": "code",
      "source": [
        "# 1. Tính số lượt mua của mỗi article\n",
        "top_articles = transactions['article_id'].value_counts().reset_index()\n",
        "top_articles.columns = ['article_id', 'purchase_count']\n",
        "\n",
        "# 2. Lấy 5 sản phẩm được mua nhiều nhất\n",
        "top_10_articles = top_articles.head(10)\n",
        "\n",
        "# 3. Merge với bảng articles để lấy thêm thông tin\n",
        "top_10_articles_info = top_10_articles.merge(\n",
        "    articles[['article_id', 'product_type_name', 'perceived_colour_master_name', 'index_group_name']],\n",
        "    on='article_id',\n",
        "    how='left'\n",
        ")\n",
        "\n",
        "# 4. Hiển thị kết quả\n",
        "print(top_10_articles_info)\n"
      ],
      "metadata": {
        "colab": {
          "base_uri": "https://localhost:8080/"
        },
        "id": "BP_zUX7SESL0",
        "outputId": "af5d6696-8040-4f52-cd06-6de2be0d441d"
      },
      "execution_count": null,
      "outputs": [
        {
          "output_type": "stream",
          "name": "stdout",
          "text": [
            "   article_id  purchase_count product_type_name perceived_colour_master_name  \\\n",
            "0   706016001           50287          Trousers                        Black   \n",
            "1   706016002           35043          Trousers                         Blue   \n",
            "2   372860001           31718             Socks                        Black   \n",
            "3   610776002           30199           T-shirt                        Black   \n",
            "4   759871002           26329          Vest top                        Black   \n",
            "5   464297007           25025  Underwear bottom                        Black   \n",
            "6   372860002           24458             Socks                        White   \n",
            "7   610776001           22451           T-shirt                        White   \n",
            "8   399223001           22236          Trousers                        Black   \n",
            "9   706016003           21241          Trousers                         Blue   \n",
            "\n",
            "  index_group_name  \n",
            "0          Divided  \n",
            "1          Divided  \n",
            "2       Ladieswear  \n",
            "3       Ladieswear  \n",
            "4          Divided  \n",
            "5       Ladieswear  \n",
            "6       Ladieswear  \n",
            "7       Ladieswear  \n",
            "8          Divided  \n",
            "9          Divided  \n"
          ]
        }
      ]
    },
    {
      "cell_type": "code",
      "source": [
        "bins = [0, 20, 40, 60, np.inf]  # các điểm cắt nhóm tuổi\n",
        "labels = ['0-20', '21-40', '41-60', '61+']  # nhãn cho từng nhóm\n",
        "\n",
        "customers['age_group'] = pd.cut(customers['age'], bins=bins, labels=labels, right=True)\n",
        "\n",
        "age_group_counts = customers['age_group'].value_counts().sort_index()\n",
        "\n",
        "print(age_group_counts)"
      ],
      "metadata": {
        "id": "aiT_AEpnQBCq",
        "outputId": "312758b3-0eea-4c44-d32d-d3c6370a1503",
        "colab": {
          "base_uri": "https://localhost:8080/"
        }
      },
      "execution_count": null,
      "outputs": [
        {
          "output_type": "stream",
          "name": "stdout",
          "text": [
            "age_group\n",
            "0-20      98052\n",
            "21-40    559236\n",
            "41-60    329961\n",
            "61+       61326\n",
            "Name: count, dtype: int64\n"
          ]
        }
      ]
    }
  ]
}