{
  "nbformat": 4,
  "nbformat_minor": 0,
  "metadata": {
    "colab": {
      "provenance": []
    },
    "kernelspec": {
      "name": "python3",
      "display_name": "Python 3"
    },
    "language_info": {
      "name": "python"
    }
  },
  "cells": [
    {
      "cell_type": "code",
      "source": [
        "\n",
        "from google.colab import drive\n",
        "drive.mount('/content/drive')"
      ],
      "metadata": {
        "id": "uahuZOsN4W6m",
        "colab": {
          "base_uri": "https://localhost:8080/"
        },
        "outputId": "9ab5592b-c0c2-4e1b-f999-2e67e9d2a605"
      },
      "execution_count": null,
      "outputs": [
        {
          "output_type": "stream",
          "name": "stdout",
          "text": [
            "Mounted at /content/drive\n"
          ]
        }
      ]
    },
    {
      "cell_type": "code",
      "execution_count": null,
      "metadata": {
        "id": "yVTuSUsx4Osx"
      },
      "outputs": [],
      "source": [
        "# Top-N Popular Products by Age Group and Product Category\n",
        "\n",
        "import pandas as pd\n",
        "\n",
        "# Load data\n",
        "transactions = pd.read_csv(\"/content/drive/MyDrive/Final Project/transactions_train.csv\")\n",
        "customers = pd.read_csv(\"/content/drive/MyDrive/Final Project/customers.csv\")\n",
        "articles = pd.read_csv(\"/content/drive/MyDrive/Final Project/articles.csv\")\n",
        "\n",
        "# Merge transaction data with customer age, gender, and article category\n",
        "data = (\n",
        "    transactions\n",
        "    .merge(customers[['customer_id', 'age']], on='customer_id', how='left')\n",
        "    .merge(articles[['article_id', 'product_group_name', 'index_group_name']], on='article_id', how='left')\n",
        ")\n",
        "\n",
        "# Define age bins and labels\n",
        "date_bins = [0, 17, 35, 50, 100]\n",
        "age_labels = ['Under_18', '18_35', '36_50', '51_plus']\n",
        "data['age_group'] = pd.cut(data['age'], bins=date_bins, labels=age_labels, right=True)\n",
        "\n",
        "# Function to get top-N articles for any grouping\n",
        "def get_top_articles(df, group_field, group_value, top_n=12):\n",
        "    subset = df[df[group_field] == group_value]\n",
        "    top_ids = subset['article_id'].value_counts().head(top_n).index.tolist()\n",
        "    return top_ids\n",
        "\n",
        "# Compute top-N per age group\n",
        "top_by_age = {\n",
        "    age_group: get_top_articles(data, 'age_group', age_group)\n",
        "    for age_group in age_labels\n",
        "}\n",
        "\n",
        "# Compute top-N per product category\n",
        "product_groups = data['product_group_name'].dropna().unique()\n",
        "top_by_product = {\n",
        "    product: get_top_articles(data, 'product_group_name', product)\n",
        "    for product in product_groups\n",
        "}\n",
        "\n",
        "# Compute top-N per gender (index_group_name)\n",
        "gender_groups = data['index_group_name'].dropna().unique()\n",
        "top_by_gender = {\n",
        "    gender: get_top_articles(data, 'index_group_name', gender)\n",
        "    for gender in gender_groups\n",
        "}\n",
        "\n",
        "# Combine results into a single CSV\n",
        "records = []\n",
        "for age_group, article_ids in top_by_age.items():\n",
        "    rec_str = ' '.join(map(str, article_ids))\n",
        "    records.append({'group_type': 'age_group', 'group_value': age_group, 'prediction': rec_str})\n",
        "\n",
        "for product, article_ids in top_by_product.items():\n",
        "    rec_str = ' '.join(map(str, article_ids))\n",
        "    records.append({'group_type': 'product_group_name', 'group_value': product, 'prediction': rec_str})\n",
        "\n",
        "for gender, article_ids in top_by_gender.items():\n",
        "    rec_str = ' '.join(map(str, article_ids))\n",
        "    records.append({'group_type': 'gender', 'group_value': gender, 'prediction': rec_str})\n",
        "\n",
        "# Save combined CSV\n",
        "combined_df = pd.DataFrame(records)\n",
        "combined_df.to_csv('top_n_combined_by_age_product_gender.csv', index=False)"
      ]
    }
  ]
}