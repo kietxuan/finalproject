{
  "nbformat": 4,
  "nbformat_minor": 0,
  "metadata": {
    "colab": {
      "provenance": []
    },
    "kernelspec": {
      "name": "python3",
      "display_name": "Python 3"
    },
    "language_info": {
      "name": "python"
    }
  },
  "cells": [
    {
      "cell_type": "code",
      "execution_count": null,
      "metadata": {
        "colab": {
          "base_uri": "https://localhost:8080/"
        },
        "id": "n4mZGkUEudrL",
        "outputId": "e20c492b-1fba-47c3-a6df-5f674efc4524"
      },
      "outputs": [
        {
          "output_type": "stream",
          "name": "stdout",
          "text": [
            "\n",
            "data information:\n",
            "<class 'pandas.core.frame.DataFrame'>\n",
            "RangeIndex: 13896 entries, 0 to 13895\n",
            "Data columns (total 7 columns):\n",
            " #   Column                  Non-Null Count  Dtype  \n",
            "---  ------                  --------------  -----  \n",
            " 0   customer_id             13896 non-null  object \n",
            " 1   FN                      4738 non-null   float64\n",
            " 2   Active                  4612 non-null   float64\n",
            " 3   club_member_status      13841 non-null  object \n",
            " 4   fashion_news_frequency  13730 non-null  object \n",
            " 5   age                     13719 non-null  float64\n",
            " 6   postal_code             13896 non-null  object \n",
            "dtypes: float64(3), object(4)\n",
            "memory usage: 760.1+ KB\n",
            "None\n",
            "Customers Preview:\n",
            "                                         customer_id   FN  Active  \\\n",
            "0  00000dbacae5abe5e23885899a1fa44253a17956c6d1c3...  NaN     NaN   \n",
            "1  0000423b00ade91418cceaf3b26c6af3dd342b51fd051e...  NaN     NaN   \n",
            "2  000058a12d5b43e67d225668fa1f8d618c13dc232df0ca...  NaN     NaN   \n",
            "3  00005ca1c9ed5f5146b52ac8639a40ca9d57aeff4d1bd2...  NaN     NaN   \n",
            "4  00006413d8573cd20ed7128e53b7b13819fe5cfc2d801f...  1.0     1.0   \n",
            "\n",
            "  club_member_status fashion_news_frequency   age  \\\n",
            "0             ACTIVE                   NONE  49.0   \n",
            "1             ACTIVE                   NONE  25.0   \n",
            "2             ACTIVE                   NONE  24.0   \n",
            "3             ACTIVE                   NONE  54.0   \n",
            "4             ACTIVE              Regularly  52.0   \n",
            "\n",
            "                                         postal_code  \n",
            "0  52043ee2162cf5aa7ee79974281641c6f11a68d276429a...  \n",
            "1  2973abc54daa8a5f8ccfe9362140c63247c5eee03f1d93...  \n",
            "2  64f17e6a330a85798e4998f62d0930d14db8db1c054af6...  \n",
            "3  5d36574f52495e81f019b680c843c443bd343d5ca5b1c2...  \n",
            "4  25fa5ddee9aac01b35208d01736e57942317d756b32ddd...  \n",
            "customer_id                  0\n",
            "FN                        9158\n",
            "Active                    9284\n",
            "club_member_status          55\n",
            "fashion_news_frequency     166\n",
            "age                        177\n",
            "postal_code                  0\n",
            "dtype: int64\n",
            "0\n"
          ]
        }
      ],
      "source": [
        "import pandas as pd\n",
        "import numpy as np\n",
        "# Kiểm tra và xử lý giá trị bị thiếu hoặc trùng lặp\n",
        "df = pd.read_csv('customers.csv')\n",
        "print('\\ndata information:')\n",
        "print(df.info())\n",
        "\n",
        "print(\"Customers Preview:\")\n",
        "print(df.head())\n",
        "\n",
        "# Check for missing values\n",
        "missing_values = df.isnull().sum()\n",
        "print(missing_values)\n",
        "# Handle missing values\n",
        "df = df.dropna()\n",
        "# Check for duplicates\n",
        "duplicates = df.duplicated().sum()\n",
        "print(duplicates)\n",
        "# Remove duplicates\n",
        "df = df.drop_duplicates()\n",
        "#FN = 1 nghĩa là khách hàng đã chọn nhận tin tức thời trang (đăng ký nhận newsletter hoặc thông tin khuyến mãi).\n",
        "#FN = NaN (giá trị bị thiếu) thường đồng nghĩa với việc khách hàng không đăng ký nhận tin tức.\n",
        "#active thể hiện khác hàng còn hoạt động hay k(1 = active, 0 = inactive)"
      ]
    }
  ]
}