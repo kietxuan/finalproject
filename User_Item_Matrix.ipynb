{
  "nbformat": 4,
  "nbformat_minor": 0,
  "metadata": {
    "colab": {
      "provenance": []
    },
    "kernelspec": {
      "name": "python3",
      "display_name": "Python 3"
    },
    "language_info": {
      "name": "python"
    }
  },
  "cells": [
    {
      "cell_type": "code",
      "execution_count": null,
      "metadata": {
        "id": "nE3IUnwgHWoy"
      },
      "outputs": [],
      "source": [
        "import pandas as pd\n",
        "\n",
        "# 1. Read the transactions file\n",
        "transactions = pd.read_csv('/content/drive/MyDrive/Final Project/transactions_train.csv')\n",
        "\n",
        "# 2. Keep only the necessary columns and work on a copy\n",
        "transactions = transactions[['customer_id', 'article_id']].copy()\n",
        "\n",
        "# 3. Mark each purchase with 1\n",
        "transactions.loc[:, 'purchased'] = 1\n",
        "\n",
        "# 4. Pivot to create a customer × item matrix (0/1)\n",
        "customer_item_matrix = transactions.pivot_table(\n",
        "    index='customer_id',\n",
        "    columns='article_id',\n",
        "    values='purchased',\n",
        "    fill_value=0\n",
        ")\n",
        "\n",
        "# 5. Save the matrix to a CSV file\n",
        "customer_item_matrix.to_csv('customer_item_matrix.csv', index=True)\n",
        "\n",
        "print(\"Customer-Item matrix has been created and saved as customer_item_matrix.csv!\")"
      ]
    }
  ]
}